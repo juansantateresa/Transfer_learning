{
 "cells": [
  {
   "cell_type": "code",
   "execution_count": 12,
   "metadata": {},
   "outputs": [],
   "source": [
    "from keras.applications import vgg16\n",
    "from keras.models import Model\n",
    "import keras\n",
    "import matplotlib.pyplot as plt"
   ]
  },
  {
   "cell_type": "code",
   "execution_count": 4,
   "metadata": {},
   "outputs": [],
   "source": [
    "input_shape = (150,150,3)"
   ]
  },
  {
   "cell_type": "code",
   "execution_count": 6,
   "metadata": {},
   "outputs": [
    {
     "name": "stdout",
     "output_type": "stream",
     "text": [
      "Downloading data from https://storage.googleapis.com/tensorflow/keras-applications/vgg16/vgg16_weights_tf_dim_ordering_tf_kernels_notop.h5\n",
      "58892288/58889256 [==============================] - 4s 0us/step\n",
      "Model: \"model\"\n",
      "_________________________________________________________________\n",
      "Layer (type)                 Output Shape              Param #   \n",
      "=================================================================\n",
      "input_1 (InputLayer)         [(None, 150, 150, 3)]     0         \n",
      "_________________________________________________________________\n",
      "block1_conv1 (Conv2D)        (None, 150, 150, 64)      1792      \n",
      "_________________________________________________________________\n",
      "block1_conv2 (Conv2D)        (None, 150, 150, 64)      36928     \n",
      "_________________________________________________________________\n",
      "block1_pool (MaxPooling2D)   (None, 75, 75, 64)        0         \n",
      "_________________________________________________________________\n",
      "block2_conv1 (Conv2D)        (None, 75, 75, 128)       73856     \n",
      "_________________________________________________________________\n",
      "block2_conv2 (Conv2D)        (None, 75, 75, 128)       147584    \n",
      "_________________________________________________________________\n",
      "block2_pool (MaxPooling2D)   (None, 37, 37, 128)       0         \n",
      "_________________________________________________________________\n",
      "block3_conv1 (Conv2D)        (None, 37, 37, 256)       295168    \n",
      "_________________________________________________________________\n",
      "block3_conv2 (Conv2D)        (None, 37, 37, 256)       590080    \n",
      "_________________________________________________________________\n",
      "block3_conv3 (Conv2D)        (None, 37, 37, 256)       590080    \n",
      "_________________________________________________________________\n",
      "block3_pool (MaxPooling2D)   (None, 18, 18, 256)       0         \n",
      "_________________________________________________________________\n",
      "block4_conv1 (Conv2D)        (None, 18, 18, 512)       1180160   \n",
      "_________________________________________________________________\n",
      "block4_conv2 (Conv2D)        (None, 18, 18, 512)       2359808   \n",
      "_________________________________________________________________\n",
      "block4_conv3 (Conv2D)        (None, 18, 18, 512)       2359808   \n",
      "_________________________________________________________________\n",
      "block4_pool (MaxPooling2D)   (None, 9, 9, 512)         0         \n",
      "_________________________________________________________________\n",
      "block5_conv1 (Conv2D)        (None, 9, 9, 512)         2359808   \n",
      "_________________________________________________________________\n",
      "block5_conv2 (Conv2D)        (None, 9, 9, 512)         2359808   \n",
      "_________________________________________________________________\n",
      "block5_conv3 (Conv2D)        (None, 9, 9, 512)         2359808   \n",
      "_________________________________________________________________\n",
      "block5_pool (MaxPooling2D)   (None, 4, 4, 512)         0         \n",
      "_________________________________________________________________\n",
      "flatten (Flatten)            (None, 8192)              0         \n",
      "=================================================================\n",
      "Total params: 14,714,688\n",
      "Trainable params: 0\n",
      "Non-trainable params: 14,714,688\n",
      "_________________________________________________________________\n"
     ]
    }
   ],
   "source": [
    "vgg = vgg16.VGG16(include_top=False, weights='imagenet',\n",
    "                 input_shape=input_shape)\n",
    "\n",
    "output = vgg.layers[-1].output\n",
    "output = keras.layers.Flatten()(output)\n",
    "vgg_model = Model(vgg.input, output)\n",
    "vgg_model.trainable = False\n",
    "\n",
    "for layers in vgg_model.layers:\n",
    "    layers.trainable = False\n",
    "    \n",
    "vgg_model.summary()\n"
   ]
  },
  {
   "cell_type": "code",
   "execution_count": 7,
   "metadata": {},
   "outputs": [
    {
     "data": {
      "text/html": [
       "<div>\n",
       "<style scoped>\n",
       "    .dataframe tbody tr th:only-of-type {\n",
       "        vertical-align: middle;\n",
       "    }\n",
       "\n",
       "    .dataframe tbody tr th {\n",
       "        vertical-align: top;\n",
       "    }\n",
       "\n",
       "    .dataframe thead th {\n",
       "        text-align: right;\n",
       "    }\n",
       "</style>\n",
       "<table border=\"1\" class=\"dataframe\">\n",
       "  <thead>\n",
       "    <tr style=\"text-align: right;\">\n",
       "      <th></th>\n",
       "      <th>Layer Type</th>\n",
       "      <th>Layer Name</th>\n",
       "      <th>Layer Trainable</th>\n",
       "    </tr>\n",
       "  </thead>\n",
       "  <tbody>\n",
       "    <tr>\n",
       "      <td>0</td>\n",
       "      <td>&lt;tensorflow.python.keras.engine.input_layer.InputLayer object at 0x7fad4f656790&gt;</td>\n",
       "      <td>input_1</td>\n",
       "      <td>False</td>\n",
       "    </tr>\n",
       "    <tr>\n",
       "      <td>1</td>\n",
       "      <td>&lt;tensorflow.python.keras.layers.convolutional.Conv2D object at 0x7fad4eb36350&gt;</td>\n",
       "      <td>block1_conv1</td>\n",
       "      <td>False</td>\n",
       "    </tr>\n",
       "    <tr>\n",
       "      <td>2</td>\n",
       "      <td>&lt;tensorflow.python.keras.layers.convolutional.Conv2D object at 0x7fad4d94ccd0&gt;</td>\n",
       "      <td>block1_conv2</td>\n",
       "      <td>False</td>\n",
       "    </tr>\n",
       "    <tr>\n",
       "      <td>3</td>\n",
       "      <td>&lt;tensorflow.python.keras.layers.pooling.MaxPooling2D object at 0x7fad4d943090&gt;</td>\n",
       "      <td>block1_pool</td>\n",
       "      <td>False</td>\n",
       "    </tr>\n",
       "    <tr>\n",
       "      <td>4</td>\n",
       "      <td>&lt;tensorflow.python.keras.layers.convolutional.Conv2D object at 0x7fad4d93be90&gt;</td>\n",
       "      <td>block2_conv1</td>\n",
       "      <td>False</td>\n",
       "    </tr>\n",
       "    <tr>\n",
       "      <td>5</td>\n",
       "      <td>&lt;tensorflow.python.keras.layers.convolutional.Conv2D object at 0x7fad4ca9f250&gt;</td>\n",
       "      <td>block2_conv2</td>\n",
       "      <td>False</td>\n",
       "    </tr>\n",
       "    <tr>\n",
       "      <td>6</td>\n",
       "      <td>&lt;tensorflow.python.keras.layers.pooling.MaxPooling2D object at 0x7fad4c344210&gt;</td>\n",
       "      <td>block2_pool</td>\n",
       "      <td>False</td>\n",
       "    </tr>\n",
       "    <tr>\n",
       "      <td>7</td>\n",
       "      <td>&lt;tensorflow.python.keras.layers.convolutional.Conv2D object at 0x7fad4c338510&gt;</td>\n",
       "      <td>block3_conv1</td>\n",
       "      <td>False</td>\n",
       "    </tr>\n",
       "    <tr>\n",
       "      <td>8</td>\n",
       "      <td>&lt;tensorflow.python.keras.layers.convolutional.Conv2D object at 0x7fad4c34b050&gt;</td>\n",
       "      <td>block3_conv2</td>\n",
       "      <td>False</td>\n",
       "    </tr>\n",
       "    <tr>\n",
       "      <td>9</td>\n",
       "      <td>&lt;tensorflow.python.keras.layers.convolutional.Conv2D object at 0x7fad4cae47d0&gt;</td>\n",
       "      <td>block3_conv3</td>\n",
       "      <td>False</td>\n",
       "    </tr>\n",
       "    <tr>\n",
       "      <td>10</td>\n",
       "      <td>&lt;tensorflow.python.keras.layers.pooling.MaxPooling2D object at 0x7fad4c32bad0&gt;</td>\n",
       "      <td>block3_pool</td>\n",
       "      <td>False</td>\n",
       "    </tr>\n",
       "    <tr>\n",
       "      <td>11</td>\n",
       "      <td>&lt;tensorflow.python.keras.layers.convolutional.Conv2D object at 0x7fad4c32b850&gt;</td>\n",
       "      <td>block4_conv1</td>\n",
       "      <td>False</td>\n",
       "    </tr>\n",
       "    <tr>\n",
       "      <td>12</td>\n",
       "      <td>&lt;tensorflow.python.keras.layers.convolutional.Conv2D object at 0x7fad4c32d950&gt;</td>\n",
       "      <td>block4_conv2</td>\n",
       "      <td>False</td>\n",
       "    </tr>\n",
       "    <tr>\n",
       "      <td>13</td>\n",
       "      <td>&lt;tensorflow.python.keras.layers.convolutional.Conv2D object at 0x7fad4e8ca490&gt;</td>\n",
       "      <td>block4_conv3</td>\n",
       "      <td>False</td>\n",
       "    </tr>\n",
       "    <tr>\n",
       "      <td>14</td>\n",
       "      <td>&lt;tensorflow.python.keras.layers.pooling.MaxPooling2D object at 0x7fad4aa9b0d0&gt;</td>\n",
       "      <td>block4_pool</td>\n",
       "      <td>False</td>\n",
       "    </tr>\n",
       "    <tr>\n",
       "      <td>15</td>\n",
       "      <td>&lt;tensorflow.python.keras.layers.convolutional.Conv2D object at 0x7fad4e8bf150&gt;</td>\n",
       "      <td>block5_conv1</td>\n",
       "      <td>False</td>\n",
       "    </tr>\n",
       "    <tr>\n",
       "      <td>16</td>\n",
       "      <td>&lt;tensorflow.python.keras.layers.convolutional.Conv2D object at 0x7fad4ef3da90&gt;</td>\n",
       "      <td>block5_conv2</td>\n",
       "      <td>False</td>\n",
       "    </tr>\n",
       "    <tr>\n",
       "      <td>17</td>\n",
       "      <td>&lt;tensorflow.python.keras.layers.convolutional.Conv2D object at 0x7fad4ef46490&gt;</td>\n",
       "      <td>block5_conv3</td>\n",
       "      <td>False</td>\n",
       "    </tr>\n",
       "    <tr>\n",
       "      <td>18</td>\n",
       "      <td>&lt;tensorflow.python.keras.layers.pooling.MaxPooling2D object at 0x7fad4c331c10&gt;</td>\n",
       "      <td>block5_pool</td>\n",
       "      <td>False</td>\n",
       "    </tr>\n",
       "    <tr>\n",
       "      <td>19</td>\n",
       "      <td>&lt;tensorflow.python.keras.layers.core.Flatten object at 0x7fad4c32d750&gt;</td>\n",
       "      <td>flatten</td>\n",
       "      <td>False</td>\n",
       "    </tr>\n",
       "  </tbody>\n",
       "</table>\n",
       "</div>"
      ],
      "text/plain": [
       "                                                                          Layer Type  \\\n",
       "0   <tensorflow.python.keras.engine.input_layer.InputLayer object at 0x7fad4f656790>   \n",
       "1   <tensorflow.python.keras.layers.convolutional.Conv2D object at 0x7fad4eb36350>     \n",
       "2   <tensorflow.python.keras.layers.convolutional.Conv2D object at 0x7fad4d94ccd0>     \n",
       "3   <tensorflow.python.keras.layers.pooling.MaxPooling2D object at 0x7fad4d943090>     \n",
       "4   <tensorflow.python.keras.layers.convolutional.Conv2D object at 0x7fad4d93be90>     \n",
       "5   <tensorflow.python.keras.layers.convolutional.Conv2D object at 0x7fad4ca9f250>     \n",
       "6   <tensorflow.python.keras.layers.pooling.MaxPooling2D object at 0x7fad4c344210>     \n",
       "7   <tensorflow.python.keras.layers.convolutional.Conv2D object at 0x7fad4c338510>     \n",
       "8   <tensorflow.python.keras.layers.convolutional.Conv2D object at 0x7fad4c34b050>     \n",
       "9   <tensorflow.python.keras.layers.convolutional.Conv2D object at 0x7fad4cae47d0>     \n",
       "10  <tensorflow.python.keras.layers.pooling.MaxPooling2D object at 0x7fad4c32bad0>     \n",
       "11  <tensorflow.python.keras.layers.convolutional.Conv2D object at 0x7fad4c32b850>     \n",
       "12  <tensorflow.python.keras.layers.convolutional.Conv2D object at 0x7fad4c32d950>     \n",
       "13  <tensorflow.python.keras.layers.convolutional.Conv2D object at 0x7fad4e8ca490>     \n",
       "14  <tensorflow.python.keras.layers.pooling.MaxPooling2D object at 0x7fad4aa9b0d0>     \n",
       "15  <tensorflow.python.keras.layers.convolutional.Conv2D object at 0x7fad4e8bf150>     \n",
       "16  <tensorflow.python.keras.layers.convolutional.Conv2D object at 0x7fad4ef3da90>     \n",
       "17  <tensorflow.python.keras.layers.convolutional.Conv2D object at 0x7fad4ef46490>     \n",
       "18  <tensorflow.python.keras.layers.pooling.MaxPooling2D object at 0x7fad4c331c10>     \n",
       "19  <tensorflow.python.keras.layers.core.Flatten object at 0x7fad4c32d750>             \n",
       "\n",
       "      Layer Name  Layer Trainable  \n",
       "0   input_1       False            \n",
       "1   block1_conv1  False            \n",
       "2   block1_conv2  False            \n",
       "3   block1_pool   False            \n",
       "4   block2_conv1  False            \n",
       "5   block2_conv2  False            \n",
       "6   block2_pool   False            \n",
       "7   block3_conv1  False            \n",
       "8   block3_conv2  False            \n",
       "9   block3_conv3  False            \n",
       "10  block3_pool   False            \n",
       "11  block4_conv1  False            \n",
       "12  block4_conv2  False            \n",
       "13  block4_conv3  False            \n",
       "14  block4_pool   False            \n",
       "15  block5_conv1  False            \n",
       "16  block5_conv2  False            \n",
       "17  block5_conv3  False            \n",
       "18  block5_pool   False            \n",
       "19  flatten       False            "
      ]
     },
     "execution_count": 7,
     "metadata": {},
     "output_type": "execute_result"
    }
   ],
   "source": [
    "import pandas as pd\n",
    "pd.set_option('max_colwidth', -1)\n",
    "\n",
    "layers = [(layer, layer.name, layer.trainable) \n",
    "          for layer in vgg_model.layers]\n",
    "\n",
    "pd.DataFrame(layers, columns = ['Layer Type', 'Layer Name', 'Layer Trainable'])\n"
   ]
  },
  {
   "cell_type": "code",
   "execution_count": 9,
   "metadata": {},
   "outputs": [],
   "source": [
    "%store -r train_imgs_scaled\n"
   ]
  },
  {
   "cell_type": "code",
   "execution_count": 15,
   "metadata": {},
   "outputs": [],
   "source": [
    "%store -r validation_imgs_scaled"
   ]
  },
  {
   "cell_type": "code",
   "execution_count": 13,
   "metadata": {},
   "outputs": [
    {
     "name": "stdout",
     "output_type": "stream",
     "text": [
      "[[[[0.         0.         0.         ... 0.         0.8656103\n",
      "    0.        ]\n",
      "   [0.         0.         0.         ... 0.         0.45623726\n",
      "    0.        ]\n",
      "   [0.5135511  0.         0.4104628  ... 0.         0.\n",
      "    0.        ]\n",
      "   [0.97061396 0.         0.28073192 ... 0.         0.34782267\n",
      "    0.        ]]\n",
      "\n",
      "  [[0.         0.         0.         ... 0.         1.1298417\n",
      "    0.        ]\n",
      "   [0.         0.         0.31726855 ... 0.17607243 0.7319436\n",
      "    0.        ]\n",
      "   [1.0402734  0.         0.98363    ... 0.38952196 0.\n",
      "    0.        ]\n",
      "   [1.1919419  0.         0.561596   ... 0.5268876  0.24319974\n",
      "    0.        ]]\n",
      "\n",
      "  [[0.0495993  0.         0.         ... 0.         1.0270705\n",
      "    0.        ]\n",
      "   [0.11192551 0.         0.73628056 ... 0.1861231  0.6111111\n",
      "    0.        ]\n",
      "   [0.6164263  0.         0.9319964  ... 0.         0.\n",
      "    0.05961056]\n",
      "   [0.8183955  0.         0.7838482  ... 0.02603566 0.45731017\n",
      "    0.        ]]\n",
      "\n",
      "  [[0.18865839 0.         0.         ... 0.         0.7205793\n",
      "    0.        ]\n",
      "   [0.29801518 0.         0.5641604  ... 0.         0.4315099\n",
      "    0.        ]\n",
      "   [0.21115246 0.         0.33470204 ... 0.         0.\n",
      "    0.        ]\n",
      "   [0.0508855  0.         0.74651694 ... 0.         0.5770121\n",
      "    0.        ]]]]\n"
     ]
    },
    {
     "data": {
      "text/plain": [
       "<matplotlib.image.AxesImage at 0x7fad38033790>"
      ]
     },
     "execution_count": 13,
     "metadata": {},
     "output_type": "execute_result"
    },
    {
     "data": {
      "image/png": "[encoded data removed]",
      "text/plain": [
       "<Figure size 432x288 with 1 Axes>"
      ]
     },
     "metadata": {
      "needs_background": "light"
     },
     "output_type": "display_data"
    }
   ],
   "source": [
    "bottleneck_feature_example = vgg.predict(train_imgs_scaled[0:1])\n",
    "print(bottleneck_feature_example)\n",
    "plt.imshow(bottleneck_feature_example[0][:,:,0])"
   ]
  },
  {
   "cell_type": "code",
   "execution_count": 14,
   "metadata": {},
   "outputs": [],
   "source": [
    "def get_bottleneck_features(model, input_imgs):\n",
    "    features = model.predict(input_imgs, verbose=0)\n",
    "    return features\n"
   ]
  },
  {
   "cell_type": "code",
   "execution_count": 16,
   "metadata": {},
   "outputs": [],
   "source": [
    "train_features_vgg = get_bottleneck_features(vgg_model, \n",
    "                                             train_imgs_scaled)\n",
    "\n",
    "validation_features_vgg = get_bottleneck_features(vgg_model,\n",
    "                                                 validation_imgs_scaled)"
   ]
  },
  {
   "cell_type": "code",
   "execution_count": 17,
   "metadata": {},
   "outputs": [
    {
     "name": "stdout",
     "output_type": "stream",
     "text": [
      "Train Bottleneck Features: (2930, 8192) \tValidation Bottleneck Features: (993, 8192)\n"
     ]
    }
   ],
   "source": [
    "print('Train Bottleneck Features:', train_features_vgg.shape, \n",
    "     '\\tValidation Bottleneck Features:', validation_features_vgg.shape)"
   ]
  },
  {
   "cell_type": "code",
   "execution_count": 18,
   "metadata": {},
   "outputs": [],
   "source": [
    "from keras.layers import Conv2D, MaxPooling2D, Flatten, Dense, Dropout, InputLayer\n",
    "from keras.models import Sequential\n",
    "from keras import optimizers"
   ]
  },
  {
   "cell_type": "code",
   "execution_count": 24,
   "metadata": {},
   "outputs": [],
   "source": [
    "input_shape = vgg_model.output_shape[1]\n",
    "model = Sequential()\n",
    "model.add(InputLayer(input_shape=(input_shape,)))\n",
    "model.add(Dense(512, activation='relu', input_dim=input_shape))\n",
    "model.add(Dropout(0.3))\n",
    "model.add(Dense(512, activation='relu'))\n",
    "model.add(Dropout(0.3))\n",
    "model.add(Dense(1, activation='sigmoid'))"
   ]
  },
  {
   "cell_type": "code",
   "execution_count": 27,
   "metadata": {},
   "outputs": [],
   "source": [
    "model.compile(loss= 'binary_crossentropy',\n",
    "             optimizer=optimizers.RMSprop(lr=1e-4),\n",
    "             metrics='accuracy')"
   ]
  },
  {
   "cell_type": "code",
   "execution_count": 28,
   "metadata": {},
   "outputs": [
    {
     "name": "stdout",
     "output_type": "stream",
     "text": [
      "Model: \"sequential\"\n",
      "_________________________________________________________________\n",
      "Layer (type)                 Output Shape              Param #   \n",
      "=================================================================\n",
      "dense (Dense)                (None, 512)               4194816   \n",
      "_________________________________________________________________\n",
      "dropout (Dropout)            (None, 512)               0         \n",
      "_________________________________________________________________\n",
      "dense_1 (Dense)              (None, 512)               262656    \n",
      "_________________________________________________________________\n",
      "dropout_1 (Dropout)          (None, 512)               0         \n",
      "_________________________________________________________________\n",
      "dense_2 (Dense)              (None, 1)                 513       \n",
      "=================================================================\n",
      "Total params: 4,457,985\n",
      "Trainable params: 4,457,985\n",
      "Non-trainable params: 0\n",
      "_________________________________________________________________\n"
     ]
    }
   ],
   "source": [
    "model.summary()"
   ]
  },
  {
   "cell_type": "code",
   "execution_count": 29,
   "metadata": {},
   "outputs": [],
   "source": [
    "%store -r train_labels_enc"
   ]
  },
  {
   "cell_type": "code",
   "execution_count": 32,
   "metadata": {},
   "outputs": [],
   "source": [
    "%store -r validation_labels_enc"
   ]
  },
  {
   "cell_type": "code",
   "execution_count": 33,
   "metadata": {},
   "outputs": [
    {
     "name": "stdout",
     "output_type": "stream",
     "text": [
      "Epoch 1/50\n",
      "98/98 [==============================] - 5s 38ms/step - loss: 0.5454 - accuracy: 0.7276 - val_loss: 0.4785 - val_accuracy: 0.7674\n",
      "Epoch 2/50\n",
      "98/98 [==============================] - 3s 34ms/step - loss: 0.3298 - accuracy: 0.8482 - val_loss: 0.2477 - val_accuracy: 0.9074\n",
      "Epoch 3/50\n",
      "98/98 [==============================] - 3s 36ms/step - loss: 0.2297 - accuracy: 0.9010 - val_loss: 0.2323 - val_accuracy: 0.9043\n",
      "Epoch 4/50\n",
      "98/98 [==============================] - 4s 38ms/step - loss: 0.2134 - accuracy: 0.9103 - val_loss: 0.2419 - val_accuracy: 0.8963\n",
      "Epoch 5/50\n",
      "98/98 [==============================] - 4s 36ms/step - loss: 0.1677 - accuracy: 0.9352 - val_loss: 0.2719 - val_accuracy: 0.8902\n",
      "Epoch 6/50\n",
      "98/98 [==============================] - 4s 37ms/step - loss: 0.1525 - accuracy: 0.9374 - val_loss: 0.2627 - val_accuracy: 0.9033\n",
      "Epoch 7/50\n",
      "98/98 [==============================] - 4s 36ms/step - loss: 0.1200 - accuracy: 0.9521 - val_loss: 0.2326 - val_accuracy: 0.9204\n",
      "Epoch 8/50\n",
      "98/98 [==============================] - 3s 35ms/step - loss: 0.0991 - accuracy: 0.9590 - val_loss: 0.2609 - val_accuracy: 0.9154\n",
      "Epoch 9/50\n",
      "98/98 [==============================] - 4s 45ms/step - loss: 0.0811 - accuracy: 0.9708 - val_loss: 0.2602 - val_accuracy: 0.9124\n",
      "Epoch 10/50\n",
      "98/98 [==============================] - 4s 44ms/step - loss: 0.0564 - accuracy: 0.9812 - val_loss: 0.3179 - val_accuracy: 0.8993\n",
      "Epoch 11/50\n",
      "98/98 [==============================] - 4s 42ms/step - loss: 0.0429 - accuracy: 0.9882 - val_loss: 0.2996 - val_accuracy: 0.9134\n",
      "Epoch 12/50\n",
      "98/98 [==============================] - 4s 39ms/step - loss: 0.0493 - accuracy: 0.9805 - val_loss: 0.2945 - val_accuracy: 0.9124\n",
      "Epoch 13/50\n",
      "98/98 [==============================] - 3s 33ms/step - loss: 0.0375 - accuracy: 0.9880 - val_loss: 0.3328 - val_accuracy: 0.9114\n",
      "Epoch 14/50\n",
      "98/98 [==============================] - 3s 35ms/step - loss: 0.0235 - accuracy: 0.9926 - val_loss: 0.3356 - val_accuracy: 0.9144\n",
      "Epoch 15/50\n",
      "98/98 [==============================] - 3s 35ms/step - loss: 0.0188 - accuracy: 0.9960 - val_loss: 0.3791 - val_accuracy: 0.9144\n",
      "Epoch 16/50\n",
      "98/98 [==============================] - 3s 34ms/step - loss: 0.0226 - accuracy: 0.9935 - val_loss: 0.4898 - val_accuracy: 0.8943\n",
      "Epoch 17/50\n",
      "98/98 [==============================] - 3s 34ms/step - loss: 0.0142 - accuracy: 0.9949 - val_loss: 0.4144 - val_accuracy: 0.9144\n",
      "Epoch 18/50\n",
      "98/98 [==============================] - 3s 34ms/step - loss: 0.0114 - accuracy: 0.9965 - val_loss: 0.4498 - val_accuracy: 0.9104\n",
      "Epoch 19/50\n",
      "98/98 [==============================] - 3s 35ms/step - loss: 0.0192 - accuracy: 0.9918 - val_loss: 0.4733 - val_accuracy: 0.9104\n",
      "Epoch 20/50\n",
      "98/98 [==============================] - 3s 34ms/step - loss: 0.0084 - accuracy: 0.9971 - val_loss: 0.5059 - val_accuracy: 0.9134\n",
      "Epoch 21/50\n",
      "98/98 [==============================] - 3s 32ms/step - loss: 0.0258 - accuracy: 0.9908 - val_loss: 0.5055 - val_accuracy: 0.9154\n",
      "Epoch 22/50\n",
      "98/98 [==============================] - 3s 33ms/step - loss: 0.0100 - accuracy: 0.9966 - val_loss: 0.5340 - val_accuracy: 0.9063\n",
      "Epoch 23/50\n",
      "98/98 [==============================] - 3s 33ms/step - loss: 0.0049 - accuracy: 0.9987 - val_loss: 0.9830 - val_accuracy: 0.8550\n",
      "Epoch 24/50\n",
      "98/98 [==============================] - 3s 33ms/step - loss: 0.0067 - accuracy: 0.9981 - val_loss: 0.5694 - val_accuracy: 0.9134\n",
      "Epoch 25/50\n",
      "98/98 [==============================] - 3s 32ms/step - loss: 0.0053 - accuracy: 0.9982 - val_loss: 0.6011 - val_accuracy: 0.9114\n",
      "Epoch 26/50\n",
      "98/98 [==============================] - 3s 33ms/step - loss: 0.0015 - accuracy: 0.9994 - val_loss: 0.6347 - val_accuracy: 0.9084\n",
      "Epoch 27/50\n",
      "98/98 [==============================] - 3s 33ms/step - loss: 0.0101 - accuracy: 0.9976 - val_loss: 0.6314 - val_accuracy: 0.9134\n",
      "Epoch 28/50\n",
      "98/98 [==============================] - 3s 35ms/step - loss: 0.0017 - accuracy: 0.9998 - val_loss: 0.7317 - val_accuracy: 0.9043\n",
      "Epoch 29/50\n",
      "98/98 [==============================] - 3s 33ms/step - loss: 0.0017 - accuracy: 0.9997 - val_loss: 0.6169 - val_accuracy: 0.9114\n",
      "Epoch 30/50\n",
      "98/98 [==============================] - 3s 33ms/step - loss: 0.0053 - accuracy: 0.9979 - val_loss: 0.6210 - val_accuracy: 0.9184\n",
      "Epoch 31/50\n",
      "98/98 [==============================] - 3s 32ms/step - loss: 5.5355e-04 - accuracy: 1.0000 - val_loss: 0.7091 - val_accuracy: 0.9174\n",
      "Epoch 32/50\n",
      "98/98 [==============================] - 3s 32ms/step - loss: 0.0027 - accuracy: 0.9991 - val_loss: 0.6918 - val_accuracy: 0.9124\n",
      "Epoch 33/50\n",
      "98/98 [==============================] - 3s 33ms/step - loss: 0.0131 - accuracy: 0.9959 - val_loss: 0.6589 - val_accuracy: 0.9164\n",
      "Epoch 34/50\n",
      "98/98 [==============================] - 3s 33ms/step - loss: 9.0726e-05 - accuracy: 1.0000 - val_loss: 0.7739 - val_accuracy: 0.9074\n",
      "Epoch 35/50\n",
      "98/98 [==============================] - 3s 33ms/step - loss: 0.0024 - accuracy: 0.9993 - val_loss: 0.7438 - val_accuracy: 0.9174\n",
      "Epoch 36/50\n",
      "98/98 [==============================] - 3s 33ms/step - loss: 0.0084 - accuracy: 0.9983 - val_loss: 0.7760 - val_accuracy: 0.9124\n",
      "Epoch 37/50\n",
      "98/98 [==============================] - 3s 32ms/step - loss: 0.0042 - accuracy: 0.9981 - val_loss: 0.7423 - val_accuracy: 0.9154\n",
      "Epoch 38/50\n",
      "98/98 [==============================] - 3s 32ms/step - loss: 0.0017 - accuracy: 0.9994 - val_loss: 0.8261 - val_accuracy: 0.9134\n",
      "Epoch 39/50\n",
      "98/98 [==============================] - 3s 32ms/step - loss: 0.0059 - accuracy: 0.9983 - val_loss: 0.7588 - val_accuracy: 0.9084\n",
      "Epoch 40/50\n",
      "98/98 [==============================] - 3s 32ms/step - loss: 0.0016 - accuracy: 0.9988 - val_loss: 0.7737 - val_accuracy: 0.9194\n",
      "Epoch 41/50\n",
      "98/98 [==============================] - 3s 33ms/step - loss: 0.0150 - accuracy: 0.9965 - val_loss: 0.8075 - val_accuracy: 0.9104\n",
      "Epoch 42/50\n",
      "98/98 [==============================] - 3s 33ms/step - loss: 6.4997e-05 - accuracy: 1.0000 - val_loss: 0.9521 - val_accuracy: 0.8973\n",
      "Epoch 43/50\n",
      "98/98 [==============================] - 3s 34ms/step - loss: 0.0119 - accuracy: 0.9945 - val_loss: 0.8791 - val_accuracy: 0.9174\n",
      "Epoch 44/50\n",
      "98/98 [==============================] - 3s 33ms/step - loss: 0.0067 - accuracy: 0.9966 - val_loss: 0.8480 - val_accuracy: 0.9194\n",
      "Epoch 45/50\n",
      "98/98 [==============================] - 3s 32ms/step - loss: 2.5542e-04 - accuracy: 1.0000 - val_loss: 0.8164 - val_accuracy: 0.9184\n",
      "Epoch 46/50\n",
      "98/98 [==============================] - 4s 37ms/step - loss: 0.0015 - accuracy: 0.9994 - val_loss: 0.8536 - val_accuracy: 0.9124\n",
      "Epoch 47/50\n",
      "98/98 [==============================] - 4s 38ms/step - loss: 0.0030 - accuracy: 0.9992 - val_loss: 0.8586 - val_accuracy: 0.9074\n",
      "Epoch 48/50\n",
      "98/98 [==============================] - 4s 38ms/step - loss: 2.2405e-05 - accuracy: 1.0000 - val_loss: 0.8488 - val_accuracy: 0.9164\n",
      "Epoch 49/50\n",
      "98/98 [==============================] - 3s 33ms/step - loss: 0.0040 - accuracy: 0.9980 - val_loss: 0.8703 - val_accuracy: 0.9124\n",
      "Epoch 50/50\n",
      "98/98 [==============================] - 3s 32ms/step - loss: 2.7606e-04 - accuracy: 1.0000 - val_loss: 0.9040 - val_accuracy: 0.9194\n"
     ]
    }
   ],
   "source": [
    "history = model.fit(x=train_features_vgg, y=train_labels_enc,\n",
    "                   validation_data = (validation_features_vgg, validation_labels_enc),\n",
    "                   batch_size=30, epochs=50, verbose=1)"
   ]
  },
  {
   "cell_type": "code",
   "execution_count": 35,
   "metadata": {},
   "outputs": [],
   "source": [
    "import numpy as np"
   ]
  },
  {
   "cell_type": "code",
   "execution_count": 39,
   "metadata": {},
   "outputs": [
    {
     "data": {
      "text/plain": [
       "Text(0.5, 1.0, 'Loss')"
      ]
     },
     "execution_count": 39,
     "metadata": {},
     "output_type": "execute_result"
    },
    {
     "data": {
      "image/png": "[encoded data removed]",
      "text/plain": [
       "<Figure size 1152x576 with 2 Axes>"
      ]
     },
     "metadata": {
      "needs_background": "light"
     },
     "output_type": "display_data"
    }
   ],
   "source": [
    "f, (ax1, ax2) = plt.subplots(1,2, figsize=(16,8))\n",
    "t = f.suptitle('Pretrained CNN ', fontsize = 12)\n",
    "f.subplots_adjust(top=0.85, wspace=0.3)\n",
    "\n",
    "\n",
    "epoch_list = list(range(1,51))\n",
    "ax1.plot(epoch_list, history.history['accuracy'], label='Train Accuracy') \n",
    "ax1.plot(epoch_list, history.history['val_accuracy'], label='Validation Accuracy') \n",
    "ax1.set_xticks(np.arange(0, 51, 5))\n",
    "ax1.set_ylabel('Accuracy Value')\n",
    "ax1.set_xlabel('Epoch')\n",
    "ax1.set_title('Accuracy')\n",
    "\n",
    "\n",
    "ax2.plot(epoch_list, history.history['loss'], label='Train Loss') \n",
    "ax2.plot(epoch_list, history.history['val_loss'], label='Validation Loss') \n",
    "ax2.set_xticks(np.arange(0, 51, 5))\n",
    "ax2.set_ylabel('Loss Value')\n",
    "ax2.set_xlabel('Epoch')\n",
    "ax2.set_title('Loss')\n"
   ]
  },
  {
   "cell_type": "code",
   "execution_count": 40,
   "metadata": {},
   "outputs": [],
   "source": [
    "model.save('cats_dogs_tlearn_basic_cnn.h5')"
   ]
  },
  {
   "cell_type": "markdown",
   "metadata": {},
   "source": [
    "Pretrained CNN model as a feature extractor with data augmentation"
   ]
  },
  {
   "cell_type": "code",
   "execution_count": 41,
   "metadata": {},
   "outputs": [],
   "source": [
    "from keras.preprocessing.image import ImageDataGenerator, load_img, img_to_array, array_to_img"
   ]
  },
  {
   "cell_type": "code",
   "execution_count": 42,
   "metadata": {},
   "outputs": [],
   "source": [
    "%store -r train_imgs\n",
    "%store -r validation_imgs"
   ]
  },
  {
   "cell_type": "code",
   "execution_count": 43,
   "metadata": {},
   "outputs": [],
   "source": [
    "train_datagen  = ImageDataGenerator(rescale=1./255, zoom_range=0.3,\n",
    "                                   rotation_range=50,\n",
    "                                   width_shift_range=0.2,\n",
    "                                   height_shift_range=0.2,\n",
    "                                   shear_range=0.2,\n",
    "                                   horizontal_flip=True,\n",
    "                                   fill_mode='nearest')\n",
    "\n",
    "val_datagen = ImageDataGenerator(rescale=1./255)\n",
    "\n",
    "train_generator = train_datagen.flow(train_imgs, train_labels_enc,\n",
    "                                    batch_size = 10)\n",
    "val_generator = val_datagen.flow(validation_imgs, validation_labels_enc,\n",
    "                                    batch_size = 3)"
   ]
  },
  {
   "cell_type": "code",
   "execution_count": 44,
   "metadata": {},
   "outputs": [
    {
     "name": "stdout",
     "output_type": "stream",
     "text": [
      "Model: \"sequential_2\"\n",
      "_________________________________________________________________\n",
      "Layer (type)                 Output Shape              Param #   \n",
      "=================================================================\n",
      "model (Functional)           (None, 8192)              14714688  \n",
      "_________________________________________________________________\n",
      "dense_3 (Dense)              (None, 512)               4194816   \n",
      "_________________________________________________________________\n",
      "dropout_2 (Dropout)          (None, 512)               0         \n",
      "_________________________________________________________________\n",
      "dense_4 (Dense)              (None, 512)               262656    \n",
      "_________________________________________________________________\n",
      "dropout_3 (Dropout)          (None, 512)               0         \n",
      "_________________________________________________________________\n",
      "dense_5 (Dense)              (None, 1)                 513       \n",
      "=================================================================\n",
      "Total params: 19,172,673\n",
      "Trainable params: 4,457,985\n",
      "Non-trainable params: 14,714,688\n",
      "_________________________________________________________________\n"
     ]
    }
   ],
   "source": [
    "model = Sequential()\n",
    "\n",
    "model = Sequential()\n",
    "model.add(vgg_model)\n",
    "model.add(Dense(512, activation='relu', input_dim=input_shape))\n",
    "model.add(Dropout(0.3))\n",
    "model.add(Dense(512, activation='relu'))\n",
    "model.add(Dropout(0.3))\n",
    "model.add(Dense(1, activation='sigmoid'))\n",
    "\n",
    "model.compile(loss='binary_crossentropy',\n",
    "              optimizer=optimizers.RMSprop(lr=2e-5),\n",
    "              metrics=['accuracy'])\n",
    "\n",
    "model.summary()\n"
   ]
  },
  {
   "cell_type": "code",
   "execution_count": 45,
   "metadata": {},
   "outputs": [
    {
     "name": "stdout",
     "output_type": "stream",
     "text": [
      "Epoch 1/50\n",
      "293/293 [==============================] - 276s 940ms/step - loss: 0.6857 - accuracy: 0.5644 - val_loss: 0.4331 - val_accuracy: 0.8177\n",
      "Epoch 2/50\n",
      "293/293 [==============================] - 245s 838ms/step - loss: 0.5336 - accuracy: 0.7369 - val_loss: 0.3279 - val_accuracy: 0.8600\n",
      "Epoch 3/50\n",
      "293/293 [==============================] - 290s 991ms/step - loss: 0.4777 - accuracy: 0.7777 - val_loss: 0.3007 - val_accuracy: 0.8771\n",
      "Epoch 4/50\n",
      "293/293 [==============================] - 252s 862ms/step - loss: 0.4450 - accuracy: 0.7911 - val_loss: 0.2767 - val_accuracy: 0.8781\n",
      "Epoch 5/50\n",
      "293/293 [==============================] - 253s 862ms/step - loss: 0.4076 - accuracy: 0.8012 - val_loss: 0.2730 - val_accuracy: 0.8802\n",
      "Epoch 6/50\n",
      "293/293 [==============================] - 305s 1s/step - loss: 0.4114 - accuracy: 0.8067 - val_loss: 0.2711 - val_accuracy: 0.8842\n",
      "Epoch 7/50\n",
      "293/293 [==============================] - 261s 892ms/step - loss: 0.3860 - accuracy: 0.8320 - val_loss: 0.2654 - val_accuracy: 0.8822\n",
      "Epoch 8/50\n",
      "293/293 [==============================] - 290s 991ms/step - loss: 0.3998 - accuracy: 0.8159 - val_loss: 0.2523 - val_accuracy: 0.8933\n",
      "Epoch 9/50\n",
      "293/293 [==============================] - 292s 996ms/step - loss: 0.3867 - accuracy: 0.8302 - val_loss: 0.2594 - val_accuracy: 0.8902\n",
      "Epoch 10/50\n",
      "293/293 [==============================] - 305s 1s/step - loss: 0.3693 - accuracy: 0.8348 - val_loss: 0.2942 - val_accuracy: 0.8802\n",
      "Epoch 11/50\n",
      "293/293 [==============================] - 271s 924ms/step - loss: 0.3511 - accuracy: 0.8410 - val_loss: 0.2489 - val_accuracy: 0.8852\n",
      "Epoch 12/50\n",
      "293/293 [==============================] - 262s 895ms/step - loss: 0.3796 - accuracy: 0.8312 - val_loss: 0.2663 - val_accuracy: 0.8922\n",
      "Epoch 13/50\n",
      "293/293 [==============================] - 272s 930ms/step - loss: 0.3513 - accuracy: 0.8450 - val_loss: 0.2380 - val_accuracy: 0.8943\n",
      "Epoch 14/50\n",
      "293/293 [==============================] - 273s 933ms/step - loss: 0.3695 - accuracy: 0.8437 - val_loss: 0.2489 - val_accuracy: 0.9003\n",
      "Epoch 15/50\n",
      "293/293 [==============================] - 281s 960ms/step - loss: 0.3558 - accuracy: 0.8348 - val_loss: 0.2429 - val_accuracy: 0.9003\n",
      "Epoch 16/50\n",
      "293/293 [==============================] - 276s 943ms/step - loss: 0.3388 - accuracy: 0.8519 - val_loss: 0.2487 - val_accuracy: 0.9013\n",
      "Epoch 17/50\n",
      "293/293 [==============================] - 253s 864ms/step - loss: 0.3457 - accuracy: 0.8473 - val_loss: 0.2421 - val_accuracy: 0.9013\n",
      "Epoch 18/50\n",
      "293/293 [==============================] - 257s 878ms/step - loss: 0.3632 - accuracy: 0.8344 - val_loss: 0.2427 - val_accuracy: 0.8993\n",
      "Epoch 19/50\n",
      "293/293 [==============================] - 258s 881ms/step - loss: 0.3482 - accuracy: 0.8487 - val_loss: 0.2384 - val_accuracy: 0.8933\n",
      "Epoch 20/50\n",
      "293/293 [==============================] - 256s 873ms/step - loss: 0.3325 - accuracy: 0.8555 - val_loss: 0.2977 - val_accuracy: 0.8842\n",
      "Epoch 21/50\n",
      "293/293 [==============================] - 255s 870ms/step - loss: 0.3511 - accuracy: 0.8475 - val_loss: 0.2737 - val_accuracy: 0.8902\n",
      "Epoch 22/50\n",
      "293/293 [==============================] - 256s 876ms/step - loss: 0.3414 - accuracy: 0.8389 - val_loss: 0.2429 - val_accuracy: 0.9043\n",
      "Epoch 23/50\n",
      "293/293 [==============================] - 247s 844ms/step - loss: 0.3334 - accuracy: 0.8498 - val_loss: 0.2932 - val_accuracy: 0.8902\n",
      "Epoch 24/50\n",
      "293/293 [==============================] - 251s 857ms/step - loss: 0.3188 - accuracy: 0.8591 - val_loss: 0.2356 - val_accuracy: 0.9013\n",
      "Epoch 25/50\n",
      "293/293 [==============================] - 248s 848ms/step - loss: 0.3319 - accuracy: 0.8507 - val_loss: 0.2372 - val_accuracy: 0.8973\n",
      "Epoch 26/50\n",
      "293/293 [==============================] - 249s 851ms/step - loss: 0.3340 - accuracy: 0.8541 - val_loss: 0.2400 - val_accuracy: 0.9043\n",
      "Epoch 27/50\n",
      "293/293 [==============================] - 261s 892ms/step - loss: 0.3357 - accuracy: 0.8491 - val_loss: 0.2376 - val_accuracy: 0.8993\n",
      "Epoch 28/50\n",
      "293/293 [==============================] - 239s 815ms/step - loss: 0.3447 - accuracy: 0.8526 - val_loss: 0.2512 - val_accuracy: 0.9063\n",
      "Epoch 29/50\n",
      "293/293 [==============================] - 230s 785ms/step - loss: 0.3313 - accuracy: 0.8603 - val_loss: 0.2378 - val_accuracy: 0.8973\n",
      "Epoch 30/50\n",
      "293/293 [==============================] - 229s 782ms/step - loss: 0.3368 - accuracy: 0.8558 - val_loss: 0.2376 - val_accuracy: 0.9053\n",
      "Epoch 31/50\n",
      "293/293 [==============================] - 232s 793ms/step - loss: 0.3423 - accuracy: 0.8531 - val_loss: 0.2389 - val_accuracy: 0.9104\n",
      "Epoch 32/50\n",
      "293/293 [==============================] - 228s 780ms/step - loss: 0.3107 - accuracy: 0.8738 - val_loss: 0.2358 - val_accuracy: 0.9003\n",
      "Epoch 33/50\n",
      "293/293 [==============================] - 227s 774ms/step - loss: 0.3278 - accuracy: 0.8532 - val_loss: 0.2407 - val_accuracy: 0.9023\n",
      "Epoch 34/50\n",
      "293/293 [==============================] - 227s 777ms/step - loss: 0.3171 - accuracy: 0.8586 - val_loss: 0.2369 - val_accuracy: 0.9023\n",
      "Epoch 35/50\n",
      "293/293 [==============================] - 226s 773ms/step - loss: 0.3258 - accuracy: 0.8584 - val_loss: 0.2618 - val_accuracy: 0.9074\n",
      "Epoch 36/50\n",
      "293/293 [==============================] - 226s 773ms/step - loss: 0.3344 - accuracy: 0.8567 - val_loss: 0.2469 - val_accuracy: 0.9033\n",
      "Epoch 37/50\n",
      "293/293 [==============================] - 229s 782ms/step - loss: 0.3406 - accuracy: 0.8511 - val_loss: 0.2653 - val_accuracy: 0.9033\n",
      "Epoch 38/50\n",
      "293/293 [==============================] - 226s 771ms/step - loss: 0.3189 - accuracy: 0.8651 - val_loss: 0.2471 - val_accuracy: 0.9063\n",
      "Epoch 39/50\n",
      "293/293 [==============================] - 229s 783ms/step - loss: 0.3224 - accuracy: 0.8712 - val_loss: 0.2392 - val_accuracy: 0.9013\n",
      "Epoch 40/50\n",
      "293/293 [==============================] - 227s 776ms/step - loss: 0.3107 - accuracy: 0.8695 - val_loss: 0.2512 - val_accuracy: 0.9053\n",
      "Epoch 41/50\n",
      "293/293 [==============================] - 226s 773ms/step - loss: 0.3428 - accuracy: 0.8639 - val_loss: 0.2417 - val_accuracy: 0.9043\n",
      "Epoch 42/50\n",
      "293/293 [==============================] - 227s 775ms/step - loss: 0.3281 - accuracy: 0.8742 - val_loss: 0.2464 - val_accuracy: 0.9023\n",
      "Epoch 43/50\n",
      "293/293 [==============================] - 240s 821ms/step - loss: 0.3318 - accuracy: 0.8647 - val_loss: 0.2387 - val_accuracy: 0.9074\n",
      "Epoch 44/50\n",
      "293/293 [==============================] - 249s 850ms/step - loss: 0.3524 - accuracy: 0.8523 - val_loss: 0.2442 - val_accuracy: 0.9053\n",
      "Epoch 45/50\n",
      "293/293 [==============================] - 228s 777ms/step - loss: 0.3359 - accuracy: 0.8653 - val_loss: 0.2404 - val_accuracy: 0.9053\n",
      "Epoch 46/50\n",
      "293/293 [==============================] - 228s 780ms/step - loss: 0.3108 - accuracy: 0.8637 - val_loss: 0.2456 - val_accuracy: 0.9003\n",
      "Epoch 47/50\n",
      "293/293 [==============================] - 228s 777ms/step - loss: 0.3025 - accuracy: 0.8729 - val_loss: 0.2390 - val_accuracy: 0.9013\n",
      "Epoch 48/50\n",
      "293/293 [==============================] - 226s 772ms/step - loss: 0.3416 - accuracy: 0.8602 - val_loss: 0.2511 - val_accuracy: 0.9013\n",
      "Epoch 49/50\n",
      "293/293 [==============================] - 227s 775ms/step - loss: 0.2965 - accuracy: 0.8712 - val_loss: 0.2481 - val_accuracy: 0.9074\n",
      "Epoch 50/50\n",
      "293/293 [==============================] - 228s 779ms/step - loss: 0.3403 - accuracy: 0.8491 - val_loss: 0.2611 - val_accuracy: 0.9053\n"
     ]
    }
   ],
   "source": [
    "history = model.fit(train_generator, steps_per_epoch=293,\n",
    "                   epochs=50, validation_data=val_generator,\n",
    "                   validation_steps=331, verbose=1)"
   ]
  },
  {
   "cell_type": "code",
   "execution_count": null,
   "metadata": {},
   "outputs": [],
   "source": []
  }
 ],
 "metadata": {
  "kernelspec": {
   "display_name": "Python 3",
   "language": "python",
   "name": "python3"
  },
  "language_info": {
   "codemirror_mode": {
    "name": "ipython",
    "version": 3
   },
   "file_extension": ".py",
   "mimetype": "text/x-python",
   "name": "python",
   "nbconvert_exporter": "python",
   "pygments_lexer": "ipython3",
   "version": "3.7.4"
  }
 },
 "nbformat": 4,
 "nbformat_minor": 2
}
